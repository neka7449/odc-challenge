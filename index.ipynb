{
 "cells": [
  {
   "cell_type": "code",
   "execution_count": 34,
   "metadata": {
    "collapsed": true
   },
   "outputs": [],
   "source": [
    "import itertools\n",
    "from operator import itemgetter\n",
    "from collections import Counter"
   ]
  },
  {
   "cell_type": "code",
   "execution_count": 2,
   "metadata": {
    "collapsed": true
   },
   "outputs": [],
   "source": [
    "DIR = \"/home/nehal/Downloads/Oracle Data Cloud Challenge/\""
   ]
  },
  {
   "cell_type": "code",
   "execution_count": 5,
   "metadata": {
    "collapsed": false
   },
   "outputs": [],
   "source": [
    "temp_data = []\n",
    "with open(DIR + 'train.txt', 'r') as train_data:\n",
    "    for line in itertools.islice(train_data, 0, 500):\n",
    "        checked_line = eval(line)\n",
    "        if checked_line[1] > 0:\n",
    "            temp_data.append(checked_line)"
   ]
  },
  {
   "cell_type": "markdown",
   "metadata": {},
   "source": [
    "Note to self : # total features remains the same"
   ]
  },
  {
   "cell_type": "code",
   "execution_count": 29,
   "metadata": {
    "collapsed": false
   },
   "outputs": [
    {
     "name": "stdout",
     "output_type": "stream",
     "text": [
      "86446103 517.98\n",
      "1192128 456.0\n",
      "62745589 399.96\n",
      "56046963 396.18\n",
      "130941725 356.93\n",
      "5347683 275.6\n",
      "105784237 259.98\n",
      "84397089 210.0\n",
      "13795517 207.98\n",
      "104854578 199.96\n",
      "16700618 192.0\n",
      "61709587 179.0\n",
      "2178831 164.43\n",
      "4718473 161.0\n",
      "6289024 139.98\n",
      "84950886 131.25\n",
      "29952550 130.95\n",
      "4861220 125.0\n",
      "57488560 116.96\n",
      "87332899 112.5\n",
      "26164051 111.98\n",
      "50298973 104.3\n",
      "119594030 96.0\n",
      "82609534 91.5\n",
      "39694112 90.0\n",
      "77592468 79.5\n",
      "28283105 77.96\n",
      "16366493 68.95\n",
      "19494692 64.0\n",
      "133264867 61.77\n",
      "37688214 59.99\n",
      "100494652 59.98\n",
      "69813254 59.45\n",
      "6954933 44.99\n",
      "27420623 43.47\n",
      "11564235 40.0\n",
      "5098970 39.99\n",
      "81747746 39.96\n",
      "5222428 30.0\n",
      "18205701 27.48\n",
      "14597350 26.25\n",
      "46213040 24.5\n",
      "52530034 23.98\n",
      "6061540 22.49\n",
      "131591697 20.99\n",
      "39311177 17.98\n",
      "37957834 17.49\n"
     ]
    }
   ],
   "source": [
    "for ii in sorted(temp_data, key=itemgetter(1), reverse=True):\n",
    "    print(ii[0], ii[1])"
   ]
  },
  {
   "cell_type": "code",
   "execution_count": 13,
   "metadata": {
    "collapsed": false
   },
   "outputs": [],
   "source": [
    "expenditure = [float(item[1]) for item in temp_data]"
   ]
  },
  {
   "cell_type": "code",
   "execution_count": 48,
   "metadata": {
    "collapsed": true
   },
   "outputs": [],
   "source": [
    "sorted_feature_vals = [ss[1] for ss in sorted(temp_data[3][2][1], key=itemgetter(1), reverse=True)]"
   ]
  },
  {
   "cell_type": "code",
   "execution_count": 49,
   "metadata": {
    "collapsed": false
   },
   "outputs": [
    {
     "data": {
      "text/plain": [
       "[(1.0, 236),\n",
       " (0.25, 132),\n",
       " (0.3333333333333333, 104),\n",
       " (0.2, 100),\n",
       " (0.16666666666666666, 99),\n",
       " (0.14285714285714285, 73),\n",
       " (0.1111111111111111, 69),\n",
       " (0.125, 68),\n",
       " (0.1, 66),\n",
       " (0.08333333333333333, 59),\n",
       " (0.5, 58),\n",
       " (0.09090909090909091, 51),\n",
       " (0.06666666666666667, 44),\n",
       " (0.07142857142857142, 42),\n",
       " (0.07692307692307693, 36),\n",
       " (0.05555555555555555, 36),\n",
       " (0.0625, 36),\n",
       " (0.05263157894736842, 32),\n",
       " (0.045454545454545456, 32),\n",
       " (0.05, 30)]"
      ]
     },
     "execution_count": 49,
     "metadata": {},
     "output_type": "execute_result"
    }
   ],
   "source": [
    "Counter(sorted_feature_vals).most_common(20)"
   ]
  }
 ],
 "metadata": {
  "anaconda-cloud": {},
  "kernelspec": {
   "display_name": "Python [conda env:analytics]",
   "language": "python",
   "name": "conda-env-analytics-py"
  },
  "language_info": {
   "codemirror_mode": {
    "name": "ipython",
    "version": 3
   },
   "file_extension": ".py",
   "mimetype": "text/x-python",
   "name": "python",
   "nbconvert_exporter": "python",
   "pygments_lexer": "ipython3",
   "version": "3.5.2"
  }
 },
 "nbformat": 4,
 "nbformat_minor": 1
}
